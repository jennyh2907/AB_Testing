{
 "cells": [
  {
   "cell_type": "code",
   "execution_count": 1,
   "metadata": {},
   "outputs": [],
   "source": [
    "import pandas as pd\n",
    "import numpy as np"
   ]
  },
  {
   "attachments": {},
   "cell_type": "markdown",
   "metadata": {},
   "source": [
    "- Consider the data for 8 fast food restaurants that were part of a study of the effect of raising the minimum wage in NJ. The treatment group is the 2 restaurants in NJ and the control group is a set of 6 restaurants in PA (where the minimum wage was not raised). The outcome Y obs i is the number of people employed (including part time employees) at the end of the year. There are two covariates – Xi1, the identify of the fast food chain (Burger King or Kentucy Fried Chicken) and Xi2, employment at the end of the year prior to the increase in the minimum wage."
   ]
  },
  {
   "cell_type": "code",
   "execution_count": 7,
   "metadata": {},
   "outputs": [],
   "source": [
    "# Create a list of lists\n",
    "data = [[\"NJ\", \"BK\", 22.5, 30], \n",
    "        [\"NJ\", \"KFC\", 14, 12.5], \n",
    "        [\"PA\", \"KFC\", 13.8, 17],\n",
    "        [\"PA\", \"BK\", 26.5, 18.5],\n",
    "        [\"PA\", \"BK\", 20, 19.5], \n",
    "        [\"PA\", \"BK\", 13.5, 21],\n",
    "        [\"PA\", \"BK\", 32.5, 26.5], \n",
    "        [\"PA\", \"KFC\", 21, 23]]\n",
    "\n",
    "# Create the dataframe\n",
    "fast_food = pd.DataFrame(data, columns = [\"State\", \"Rest_Chain\", \"Init_Empl\", \"Final_Empl\"])"
   ]
  },
  {
   "cell_type": "code",
   "execution_count": 8,
   "metadata": {},
   "outputs": [
    {
     "data": {
      "text/html": [
       "<div>\n",
       "<style scoped>\n",
       "    .dataframe tbody tr th:only-of-type {\n",
       "        vertical-align: middle;\n",
       "    }\n",
       "\n",
       "    .dataframe tbody tr th {\n",
       "        vertical-align: top;\n",
       "    }\n",
       "\n",
       "    .dataframe thead th {\n",
       "        text-align: right;\n",
       "    }\n",
       "</style>\n",
       "<table border=\"1\" class=\"dataframe\">\n",
       "  <thead>\n",
       "    <tr style=\"text-align: right;\">\n",
       "      <th></th>\n",
       "      <th>State</th>\n",
       "      <th>Rest_Chain</th>\n",
       "      <th>Init_Empl</th>\n",
       "      <th>Final_Empl</th>\n",
       "    </tr>\n",
       "  </thead>\n",
       "  <tbody>\n",
       "    <tr>\n",
       "      <th>0</th>\n",
       "      <td>NJ</td>\n",
       "      <td>BK</td>\n",
       "      <td>22.5</td>\n",
       "      <td>30.0</td>\n",
       "    </tr>\n",
       "    <tr>\n",
       "      <th>1</th>\n",
       "      <td>NJ</td>\n",
       "      <td>KFC</td>\n",
       "      <td>14.0</td>\n",
       "      <td>12.5</td>\n",
       "    </tr>\n",
       "    <tr>\n",
       "      <th>2</th>\n",
       "      <td>PA</td>\n",
       "      <td>KFC</td>\n",
       "      <td>13.8</td>\n",
       "      <td>17.0</td>\n",
       "    </tr>\n",
       "    <tr>\n",
       "      <th>3</th>\n",
       "      <td>PA</td>\n",
       "      <td>BK</td>\n",
       "      <td>26.5</td>\n",
       "      <td>18.5</td>\n",
       "    </tr>\n",
       "    <tr>\n",
       "      <th>4</th>\n",
       "      <td>PA</td>\n",
       "      <td>BK</td>\n",
       "      <td>20.0</td>\n",
       "      <td>19.5</td>\n",
       "    </tr>\n",
       "    <tr>\n",
       "      <th>5</th>\n",
       "      <td>PA</td>\n",
       "      <td>BK</td>\n",
       "      <td>13.5</td>\n",
       "      <td>21.0</td>\n",
       "    </tr>\n",
       "    <tr>\n",
       "      <th>6</th>\n",
       "      <td>PA</td>\n",
       "      <td>BK</td>\n",
       "      <td>32.5</td>\n",
       "      <td>26.5</td>\n",
       "    </tr>\n",
       "    <tr>\n",
       "      <th>7</th>\n",
       "      <td>PA</td>\n",
       "      <td>KFC</td>\n",
       "      <td>21.0</td>\n",
       "      <td>23.0</td>\n",
       "    </tr>\n",
       "  </tbody>\n",
       "</table>\n",
       "</div>"
      ],
      "text/plain": [
       "  State Rest_Chain  Init_Empl  Final_Empl\n",
       "0    NJ         BK       22.5        30.0\n",
       "1    NJ        KFC       14.0        12.5\n",
       "2    PA        KFC       13.8        17.0\n",
       "3    PA         BK       26.5        18.5\n",
       "4    PA         BK       20.0        19.5\n",
       "5    PA         BK       13.5        21.0\n",
       "6    PA         BK       32.5        26.5\n",
       "7    PA        KFC       21.0        23.0"
      ]
     },
     "execution_count": 8,
     "metadata": {},
     "output_type": "execute_result"
    }
   ],
   "source": [
    "fast_food"
   ]
  },
  {
   "cell_type": "code",
   "execution_count": 9,
   "metadata": {},
   "outputs": [],
   "source": [
    "# Split treatment(NJ) and control(PA) group\n",
    "treatment, control = fast_food[:2], fast_food[2:]"
   ]
  },
  {
   "cell_type": "code",
   "execution_count": 10,
   "metadata": {},
   "outputs": [
    {
     "data": {
      "text/html": [
       "<div>\n",
       "<style scoped>\n",
       "    .dataframe tbody tr th:only-of-type {\n",
       "        vertical-align: middle;\n",
       "    }\n",
       "\n",
       "    .dataframe tbody tr th {\n",
       "        vertical-align: top;\n",
       "    }\n",
       "\n",
       "    .dataframe thead th {\n",
       "        text-align: right;\n",
       "    }\n",
       "</style>\n",
       "<table border=\"1\" class=\"dataframe\">\n",
       "  <thead>\n",
       "    <tr style=\"text-align: right;\">\n",
       "      <th></th>\n",
       "      <th>State</th>\n",
       "      <th>Rest_Chain</th>\n",
       "      <th>Init_Empl</th>\n",
       "      <th>Final_Empl</th>\n",
       "    </tr>\n",
       "  </thead>\n",
       "  <tbody>\n",
       "    <tr>\n",
       "      <th>0</th>\n",
       "      <td>NJ</td>\n",
       "      <td>BK</td>\n",
       "      <td>22.5</td>\n",
       "      <td>30.0</td>\n",
       "    </tr>\n",
       "    <tr>\n",
       "      <th>1</th>\n",
       "      <td>NJ</td>\n",
       "      <td>KFC</td>\n",
       "      <td>14.0</td>\n",
       "      <td>12.5</td>\n",
       "    </tr>\n",
       "  </tbody>\n",
       "</table>\n",
       "</div>"
      ],
      "text/plain": [
       "  State Rest_Chain  Init_Empl  Final_Empl\n",
       "0    NJ         BK       22.5        30.0\n",
       "1    NJ        KFC       14.0        12.5"
      ]
     },
     "execution_count": 10,
     "metadata": {},
     "output_type": "execute_result"
    }
   ],
   "source": [
    "treatment"
   ]
  },
  {
   "cell_type": "code",
   "execution_count": 11,
   "metadata": {},
   "outputs": [
    {
     "data": {
      "text/html": [
       "<div>\n",
       "<style scoped>\n",
       "    .dataframe tbody tr th:only-of-type {\n",
       "        vertical-align: middle;\n",
       "    }\n",
       "\n",
       "    .dataframe tbody tr th {\n",
       "        vertical-align: top;\n",
       "    }\n",
       "\n",
       "    .dataframe thead th {\n",
       "        text-align: right;\n",
       "    }\n",
       "</style>\n",
       "<table border=\"1\" class=\"dataframe\">\n",
       "  <thead>\n",
       "    <tr style=\"text-align: right;\">\n",
       "      <th></th>\n",
       "      <th>State</th>\n",
       "      <th>Rest_Chain</th>\n",
       "      <th>Init_Empl</th>\n",
       "      <th>Final_Empl</th>\n",
       "    </tr>\n",
       "  </thead>\n",
       "  <tbody>\n",
       "    <tr>\n",
       "      <th>2</th>\n",
       "      <td>PA</td>\n",
       "      <td>KFC</td>\n",
       "      <td>13.8</td>\n",
       "      <td>17.0</td>\n",
       "    </tr>\n",
       "    <tr>\n",
       "      <th>3</th>\n",
       "      <td>PA</td>\n",
       "      <td>BK</td>\n",
       "      <td>26.5</td>\n",
       "      <td>18.5</td>\n",
       "    </tr>\n",
       "    <tr>\n",
       "      <th>4</th>\n",
       "      <td>PA</td>\n",
       "      <td>BK</td>\n",
       "      <td>20.0</td>\n",
       "      <td>19.5</td>\n",
       "    </tr>\n",
       "    <tr>\n",
       "      <th>5</th>\n",
       "      <td>PA</td>\n",
       "      <td>BK</td>\n",
       "      <td>13.5</td>\n",
       "      <td>21.0</td>\n",
       "    </tr>\n",
       "    <tr>\n",
       "      <th>6</th>\n",
       "      <td>PA</td>\n",
       "      <td>BK</td>\n",
       "      <td>32.5</td>\n",
       "      <td>26.5</td>\n",
       "    </tr>\n",
       "    <tr>\n",
       "      <th>7</th>\n",
       "      <td>PA</td>\n",
       "      <td>KFC</td>\n",
       "      <td>21.0</td>\n",
       "      <td>23.0</td>\n",
       "    </tr>\n",
       "  </tbody>\n",
       "</table>\n",
       "</div>"
      ],
      "text/plain": [
       "  State Rest_Chain  Init_Empl  Final_Empl\n",
       "2    PA        KFC       13.8        17.0\n",
       "3    PA         BK       26.5        18.5\n",
       "4    PA         BK       20.0        19.5\n",
       "5    PA         BK       13.5        21.0\n",
       "6    PA         BK       32.5        26.5\n",
       "7    PA        KFC       21.0        23.0"
      ]
     },
     "execution_count": 11,
     "metadata": {},
     "output_type": "execute_result"
    }
   ],
   "source": [
    "control"
   ]
  },
  {
   "attachments": {},
   "cell_type": "markdown",
   "metadata": {},
   "source": [
    "1. We want to use matching to estimate the effect of raising the minimum wage assuming that unconfoundedness holds. We will match a single control unit with each treatment unit (without replacement). Our distance measure is D(i, j) = 100 ∗ I(Xi1 ̸ = Xj1) + |Xi2 − Xj2| where the indicator I is 1 if the two units are different chains and 0 if they are the same chain. Identify the matches for the 2 treatment units."
   ]
  },
  {
   "cell_type": "code",
   "execution_count": 24,
   "metadata": {},
   "outputs": [],
   "source": [
    "# Define a function to calculate distance\n",
    "def distance_calc(treatment, control):\n",
    "    dist = 0\n",
    "    if treatment[\"Rest_Chain\"] == control[\"Rest_Chain\"]:\n",
    "        dist = abs(treatment[\"Init_Empl\"] - control[\"Init_Empl\"])\n",
    "    else: \n",
    "        dist = 100 + abs(treatment[\"Init_Empl\"] - control[\"Init_Empl\"])\n",
    "    return round(dist, 1)"
   ]
  },
  {
   "cell_type": "code",
   "execution_count": 40,
   "metadata": {},
   "outputs": [
    {
     "name": "stdout",
     "output_type": "stream",
     "text": [
      "Distance Between Treatment 1 & Control 1 is  108.7\n",
      "Distance Between Treatment 1 & Control 2 is  4.0\n",
      "Distance Between Treatment 1 & Control 3 is  2.5\n",
      "Distance Between Treatment 1 & Control 4 is  9.0\n",
      "Distance Between Treatment 1 & Control 5 is  10.0\n",
      "Distance Between Treatment 1 & Control 6 is  101.5\n",
      "The closest control store is 3. The distance is 2.5\n",
      "-----------------\n",
      "Distance Between Treatment 2 & Control 1 is  0.2\n",
      "Distance Between Treatment 2 & Control 2 is  112.5\n",
      "Distance Between Treatment 2 & Control 3 is  106.0\n",
      "Distance Between Treatment 2 & Control 4 is  100.5\n",
      "Distance Between Treatment 2 & Control 5 is  118.5\n",
      "Distance Between Treatment 2 & Control 6 is  7.0\n",
      "The closest control store is 1. The distance is 0.2\n",
      "-----------------\n",
      "The selected store is the counterfactual observations of the treatment store\n"
     ]
    }
   ],
   "source": [
    "# Loop through treatment and control group\n",
    "for t_store_index in range(0, 2):\n",
    "    min_dist = 1000\n",
    "    min_store_index = 0\n",
    "    for c_store_index in range(0, 6):\n",
    "        dist = distance_calc(treatment.iloc[t_store_index], control.iloc[c_store_index])\n",
    "        if dist < min_dist:\n",
    "            min_dist = dist\n",
    "            min_store_index = c_store_index + 1\n",
    "        print(f\"Distance Between Treatment {t_store_index + 1} & Control {c_store_index + 1} is \", dist)\n",
    "    print(f\"The closest control store is {min_store_index}. The distance is {min_dist}\")\n",
    "    print(\"-----------------\")\n",
    "print(\"The selected store is the counterfactual observations of the treatment store.\")"
   ]
  },
  {
   "attachments": {},
   "cell_type": "markdown",
   "metadata": {},
   "source": [
    "2. What is the estimate of average treatment effect on treated (ATT)?"
   ]
  },
  {
   "cell_type": "code",
   "execution_count": 44,
   "metadata": {},
   "outputs": [
    {
     "name": "stdout",
     "output_type": "stream",
     "text": [
      "The Average Treatment Effect of the Treated with matching is 6.0.\n"
     ]
    }
   ],
   "source": [
    "ATT = np.mean((treatment.iloc[0][\"Final_Empl\"] - control.iloc[2][\"Final_Empl\"]) + \n",
    "              (treatment.iloc[1][\"Final_Empl\"] - control.iloc[0][\"Final_Empl\"]))\n",
    "print(f'The ATT with matching is {ATT}.')"
   ]
  },
  {
   "attachments": {},
   "cell_type": "markdown",
   "metadata": {},
   "source": [
    "3. What is the estimate of average treatment effect (ATE)?"
   ]
  },
  {
   "cell_type": "code",
   "execution_count": 46,
   "metadata": {},
   "outputs": [
    {
     "name": "stdout",
     "output_type": "stream",
     "text": [
      "The Average Treatment Effect with matching is 3.3.\n"
     ]
    }
   ],
   "source": [
    "ATE = round(np.mean(treatment[\"Final_Empl\"] - treatment[\"Init_Empl\"]) - \n",
    "            np.mean(control[\"Final_Empl\"] - control[\"Init_Empl\"]), 1)\n",
    "\n",
    "print(f'The ATE with matching is {ATE}.')"
   ]
  },
  {
   "cell_type": "code",
   "execution_count": null,
   "metadata": {},
   "outputs": [],
   "source": []
  }
 ],
 "metadata": {
  "kernelspec": {
   "display_name": "Python 3",
   "language": "python",
   "name": "python3"
  },
  "language_info": {
   "codemirror_mode": {
    "name": "ipython",
    "version": 3
   },
   "file_extension": ".py",
   "mimetype": "text/x-python",
   "name": "python",
   "nbconvert_exporter": "python",
   "pygments_lexer": "ipython3",
   "version": "3.7.8"
  },
  "orig_nbformat": 4
 },
 "nbformat": 4,
 "nbformat_minor": 2
}
